{
 "cells": [
  {
   "cell_type": "markdown",
   "metadata": {},
   "source": [
    "Um projétil é lançado verticalmente para cima, a partir do solo, com velocidade inicial  (v0 em m/s). O projétil está sujeito apenas à gravidade (g= 9,8 m/s2). \n",
    " Para personalizar o exercício, cada aluno deve calcular a altura máxima atingida pelo projétil usando como valor de  v0 a soma dos dígitos do seu RA multiplicada por 2.\n",
    "\n",
    "Tarefas:\n",
    " • Solicite ao usuário o número do RA.\n",
    " • Calcule a soma dos dígitos do RA.\n",
    " • Defina  (soma dos dígitos do RA).\n",
    " • Calcule e imprima a altura máxima atingida pelo projétil usando a expressão: hmax=v202g\n",
    "\n",
    " • Mostre o valor de  utilizado e a altura máxima calculada.\n",
    "\n",
    "\n",
    "Exemplo de execução:\n",
    "\n",
    "Digite seu RA: 12345\n",
    "Soma dos dígitos do RA: 15\n",
    "Velocidade inicial v0: 30 m/s\n",
    "Altura máxima atingida: 45.92 m"
   ]
  },
  {
   "cell_type": "markdown",
   "metadata": {},
   "source": [
    "![alt text](av1.drawio.png)"
   ]
  },
  {
   "cell_type": "code",
   "execution_count": null,
   "metadata": {},
   "outputs": [],
   "source": [
    "import numpy as np\n",
    "ra = input(\"RA:\")\n",
    "\n",
    "soma = sum(int(i) for i in ra) #soma de cada dígito \n",
    "v0 = soma * 2 #v0 = soma dos digitos do ra * 2\n",
    "g = 9.8 #gravidade\n",
    "h_max = (v0**2) / (2*g) #altura maxima\n",
    "\n",
    "print(\"RA inserido:\",ra)\n",
    "print(\"Soma dos dígitos:\",soma)\n",
    "print(\"Velocidade inicial:\", v0, \"m/s\")\n",
    "print(\"Altura máxima:\", h_max, \"m\")"
   ]
  }
 ],
 "metadata": {
  "language_info": {
   "name": "python"
  }
 },
 "nbformat": 4,
 "nbformat_minor": 2
}
